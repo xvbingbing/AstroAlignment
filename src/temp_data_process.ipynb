{
 "cells": [
  {
   "cell_type": "code",
   "execution_count": 1,
   "metadata": {},
   "outputs": [
    {
     "name": "stdout",
     "output_type": "stream",
     "text": [
      "../data/train_dataset_en_explanation_list.json is ok\n"
     ]
    }
   ],
   "source": [
    "import toolkit\n",
    "\n",
    "dataset = toolkit.load_json_data(\"../train_dataset_en_explanation_list.json\")\n",
    "\n",
    "new = []\n",
    "for d in dataset:\n",
    "    temp = {}\n",
    "    temp['question'] = d[\"\\ufeffquestion\"]\n",
    "    temp['A'] = d['A']\n",
    "    temp['B'] = d['B']\n",
    "    temp['C'] = d['C']\n",
    "    temp['D'] = d['D']\n",
    "    temp['explanation'] = d['explanation']\n",
    "    new.append(temp)\n",
    "\n",
    "toolkit.write_to_json(new, \"../data/train_dataset_en_explanation_list.json\")\n"
   ]
  },
  {
   "cell_type": "code",
   "execution_count": null,
   "metadata": {},
   "outputs": [],
   "source": []
  }
 ],
 "metadata": {
  "kernelspec": {
   "display_name": "xbb",
   "language": "python",
   "name": "python3"
  },
  "language_info": {
   "codemirror_mode": {
    "name": "ipython",
    "version": 3
   },
   "file_extension": ".py",
   "mimetype": "text/x-python",
   "name": "python",
   "nbconvert_exporter": "python",
   "pygments_lexer": "ipython3",
   "version": "3.13.0"
  }
 },
 "nbformat": 4,
 "nbformat_minor": 2
}
